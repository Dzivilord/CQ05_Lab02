{
 "cells": [
  {
   "cell_type": "markdown",
   "metadata": {},
   "source": [
    "### Bước 1: Tạo Park Session và import các thư viện cần thiết.\n"
   ]
  },
  {
   "cell_type": "markdown",
   "metadata": {},
   "source": [
    "- Import thư viện càn thiết và thiết lập biến môi trường cho chương trình"
   ]
  },
  {
   "cell_type": "code",
   "execution_count": 58,
   "metadata": {},
   "outputs": [],
   "source": [
    "import findspark\n",
    "findspark.init(\"/home/cuong/Downloads/spark-3.5.5-bin-hadoop3\")\n",
    "import os\n",
    "os.environ[\"JAVA_HOME\"] = \"/usr/lib/jvm/java-8-openjdk-amd64\"\n",
    "os.environ[\"SPARK_HOME\"] = \"/home/cuong/Downloads/spark-3.5.5-bin-hadoop3\""
   ]
  },
  {
   "cell_type": "markdown",
   "metadata": {},
   "source": [
    "os.environ[\"JAVA_HOME\"] = \"/usr/lib/jvm/java-8-openjdk-amd64\"\n",
    "os.environ[\"SPARK_HOME\"] = \"/home/cuong/Downloads/spark-3.5.5-bin-hadoop3\""
   ]
  },
  {
   "cell_type": "markdown",
   "metadata": {},
   "source": [
    "- Tạo ParkSession "
   ]
  },
  {
   "cell_type": "code",
   "execution_count": 59,
   "metadata": {},
   "outputs": [],
   "source": [
    "from pyspark.sql import SparkSession\n",
    "from pyspark.sql.functions import col,next_day,to_date, date_format, expr, lower, sum as spark_sum\n",
    "\n",
    "spark = SparkSession.builder \\\n",
    "    .appName(\"RelativePath\") \\\n",
    "    .master(\"local[*]\") \\\n",
    "    .config(\"spark.hadoop.fs.defaultFS\", \"file:///\") \\\n",
    "    .config(\"spark.hadoop.fs.file.impl\", \"org.apache.hadoop.fs.LocalFileSystem\") \\\n",
    "    .getOrCreate()"
   ]
  },
  {
   "cell_type": "markdown",
   "metadata": {},
   "source": [
    "### Bước 2: Đọc file, xem các kiểu dữ liệu có phù hợp chưa, nếu chưa điều chỉnh lại cho đúng. \n"
   ]
  },
  {
   "cell_type": "code",
   "execution_count": 60,
   "metadata": {},
   "outputs": [
    {
     "name": "stdout",
     "output_type": "stream",
     "text": [
      "root\n",
      " |-- index: integer (nullable = true)\n",
      " |-- Order ID: string (nullable = true)\n",
      " |-- Date: string (nullable = true)\n",
      " |-- Status: string (nullable = true)\n",
      " |-- Fulfilment: string (nullable = true)\n",
      " |-- Sales Channel : string (nullable = true)\n",
      " |-- ship-service-level: string (nullable = true)\n",
      " |-- Style: string (nullable = true)\n",
      " |-- SKU: string (nullable = true)\n",
      " |-- Category: string (nullable = true)\n",
      " |-- Size: string (nullable = true)\n",
      " |-- ASIN: string (nullable = true)\n",
      " |-- Courier Status: string (nullable = true)\n",
      " |-- Qty: integer (nullable = true)\n",
      " |-- currency: string (nullable = true)\n",
      " |-- Amount: double (nullable = true)\n",
      " |-- ship-city: string (nullable = true)\n",
      " |-- ship-state: string (nullable = true)\n",
      " |-- ship-postal-code: double (nullable = true)\n",
      " |-- ship-country: string (nullable = true)\n",
      " |-- promotion-ids: string (nullable = true)\n",
      " |-- B2B: boolean (nullable = true)\n",
      " |-- fulfilled-by: string (nullable = true)\n",
      " |-- Unnamed: 22: boolean (nullable = true)\n",
      "\n"
     ]
    }
   ],
   "source": [
    "df = spark.read.csv(\"file:///home/cuong/asr.csv\", header=True, inferSchema=True)\n",
    "df.printSchema()\n"
   ]
  },
  {
   "cell_type": "code",
   "execution_count": 61,
   "metadata": {},
   "outputs": [
    {
     "name": "stdout",
     "output_type": "stream",
     "text": [
      "root\n",
      " |-- index: integer (nullable = true)\n",
      " |-- Order ID: string (nullable = true)\n",
      " |-- Date: string (nullable = true)\n",
      " |-- Status: string (nullable = true)\n",
      " |-- Fulfilment: string (nullable = true)\n",
      " |-- Sales Channel : string (nullable = true)\n",
      " |-- ship-service-level: string (nullable = true)\n",
      " |-- Style: string (nullable = true)\n",
      " |-- SKU: string (nullable = true)\n",
      " |-- Category: string (nullable = true)\n",
      " |-- Size: string (nullable = true)\n",
      " |-- ASIN: string (nullable = true)\n",
      " |-- Courier Status: string (nullable = true)\n",
      " |-- Qty: integer (nullable = true)\n",
      " |-- currency: string (nullable = true)\n",
      " |-- Amount: double (nullable = true)\n",
      " |-- ship-city: string (nullable = true)\n",
      " |-- ship-state: string (nullable = true)\n",
      " |-- ship-postal-code: double (nullable = true)\n",
      " |-- ship-country: string (nullable = true)\n",
      " |-- promotion-ids: string (nullable = true)\n",
      " |-- B2B: boolean (nullable = true)\n",
      " |-- fulfilled-by: string (nullable = true)\n",
      " |-- Unnamed: 22: boolean (nullable = true)\n",
      " |-- order_date: date (nullable = true)\n",
      "\n"
     ]
    }
   ],
   "source": [
    "df = df.withColumn(\"Qty\", col(\"Qty\").cast(\"int\"))\n",
    "df = df.withColumn(\"order_date\", to_date(col('date'), \"MM-dd-yy\"))\n",
    "df.printSchema()"
   ]
  },
  {
   "cell_type": "markdown",
   "metadata": {},
   "source": [
    "### Bước 3: Sắp xếp các record theo thứ tự Date, SKU và filter các record có Status là Shipped.\n"
   ]
  },
  {
   "cell_type": "markdown",
   "metadata": {},
   "source": [
    "- Sắp xếp dữ liệu theo ngày và SKU"
   ]
  },
  {
   "cell_type": "code",
   "execution_count": 62,
   "metadata": {},
   "outputs": [
    {
     "name": "stderr",
     "output_type": "stream",
     "text": [
      "[Stage 79:=======>                                                  (1 + 7) / 8]\r"
     ]
    },
    {
     "name": "stdout",
     "output_type": "stream",
     "text": [
      "+-----+-------------------+--------+--------------------+----------+--------------+------------------+-----+-------------+--------+----+----------+--------------+---+--------+------+-------------+--------------+----------------+------------+--------------------+-----+------------+-----------+----------+\n",
      "|index|           Order ID|    Date|              Status|Fulfilment|Sales Channel |ship-service-level|Style|          SKU|Category|Size|      ASIN|Courier Status|Qty|currency|Amount|    ship-city|    ship-state|ship-postal-code|ship-country|       promotion-ids|  B2B|fulfilled-by|Unnamed: 22|order_date|\n",
      "+-----+-------------------+--------+--------------------+----------+--------------+------------------+-----+-------------+--------+----+----------+--------------+---+--------+------+-------------+--------------+----------------+------------+--------------------+-----+------------+-----------+----------+\n",
      "|48936|404-0332978-0954715|03-31-22|Shipped - Deliver...|  Merchant|     Amazon.in|          Standard|BL111|      BL111-M|  Blouse|   M|B091YFLK7F|       Shipped|  1|     INR| 280.0|GREATER NOIDA| UTTAR PRADESH|        201306.0|          IN|Amazon PLCC Free-...|false|   Easy Ship|       NULL|2022-03-31|\n",
      "|48919|171-6941593-5471506|03-31-22|             Shipped|    Amazon|     Amazon.in|         Expedited|J0003|  J0003-SET-M|     Set|   M|B0894XH3LN|       Shipped|  1|     INR| 688.0|         AGRA| UTTAR PRADESH|        282002.0|          IN|IN Core Free Ship...|false|        NULL|       NULL|2022-03-31|\n",
      "|49012|171-6562992-0377967|03-31-22|             Shipped|    Amazon|     Amazon.in|         Expedited|J0003|  J0003-SET-M|     Set|   M|B0894XH3LN|       Shipped|  1|     INR| 688.0|       ONGOLE|ANDHRA PRADESH|        523002.0|          IN|IN Core Free Ship...|false|        NULL|       NULL|2022-03-31|\n",
      "|48922|171-8150095-2890752|03-31-22|             Shipped|    Amazon|     Amazon.in|         Expedited|J0003| J0003-SET-XL|     Set|  XL|B0894YFQ5R|       Shipped|  1|     INR| 688.0|     PARAVOOR|        KERALA|        691301.0|          IN|IN Core Free Ship...|false|        NULL|       NULL|2022-03-31|\n",
      "|48928|406-8137322-1977968|03-31-22|             Shipped|    Amazon|     Amazon.in|         Expedited|J0003| J0003-SET-XS|     Set|  XS|B0894WW15B|       Shipped|  1|     INR| 688.0|     ROURKELA|        ODISHA|        769005.0|          IN|IN Core Free Ship...|false|        NULL|       NULL|2022-03-31|\n",
      "|48983|408-8624074-9828342|03-31-22|Shipped - Deliver...|  Merchant|     Amazon.in|          Standard|J0003|J0003-SET-XXL|     Set| XXL|B0894XKVH3|       Shipped|  1|     INR| 688.0|     AGARTALA|       TRIPURA|        799006.0|          IN|Amazon PLCC Free-...|false|   Easy Ship|       NULL|2022-03-31|\n",
      "|48980|406-8656562-5221128|03-31-22|             Shipped|    Amazon|     Amazon.in|         Expedited|J0008|  J0008-SKD-S|     Set|   S|B0894XGJ83|       Shipped|  1|     INR|1147.0|GREATER NOIDA| UTTAR PRADESH|        201306.0|          IN|IN Core Free Ship...|false|        NULL|       NULL|2022-03-31|\n",
      "|48945|402-0466560-2961106|03-31-22|             Shipped|    Amazon|     Amazon.in|         Expedited|J0009|  J0009-SKD-L|     Set|   L|B0894WL9SH|       Shipped|  1|     INR| 990.0|        NOIDA| UTTAR PRADESH|        201305.0|          IN|IN Core Free Ship...|false|        NULL|       NULL|2022-03-31|\n",
      "|48951|407-8124955-7052365|03-31-22|             Shipped|    Amazon|     Amazon.in|         Expedited|J0096| J0096-KR-XXL|   kurta| XXL|B089G1TKY8|       Shipped|  1|     INR| 561.0|      BARASAT|   WEST BENGAL|        700127.0|          IN|IN Core Free Ship...|false|        NULL|       NULL|2022-03-31|\n",
      "|49034|408-9103661-4310737|03-31-22|             Shipped|    Amazon|     Amazon.in|         Expedited|J0119|  J0119-TP-XL|     Top|  XL|B08RYPWC3J|       Shipped|  1|     INR| 798.0|VISAKHAPATNAM|ANDHRA PRADESH|        530022.0|          IN|IN Core Free Ship...|false|        NULL|       NULL|2022-03-31|\n",
      "+-----+-------------------+--------+--------------------+----------+--------------+------------------+-----+-------------+--------+----+----------+--------------+---+--------+------+-------------+--------------+----------------+------------+--------------------+-----+------------+-----------+----------+\n",
      "only showing top 10 rows\n",
      "\n"
     ]
    },
    {
     "name": "stderr",
     "output_type": "stream",
     "text": [
      "                                                                                \r"
     ]
    }
   ],
   "source": [
    "df_sorted = df.orderBy(\"order_date\", \"SKU\")\n",
    "df_sorted.show(10)"
   ]
  },
  {
   "cell_type": "markdown",
   "metadata": {},
   "source": [
    "- Lọc ra các cột chứa Status là Shipped"
   ]
  },
  {
   "cell_type": "code",
   "execution_count": 63,
   "metadata": {},
   "outputs": [
    {
     "name": "stderr",
     "output_type": "stream",
     "text": [
      "                                                                                \r"
     ]
    },
    {
     "name": "stdout",
     "output_type": "stream",
     "text": [
      "+-----+-------------------+--------+--------------------+----------+--------------+------------------+-----+-------------+--------+----+----------+--------------+---+--------+------+-------------+--------------+----------------+------------+--------------------+-----+------------+-----------+----------+\n",
      "|index|           Order ID|    Date|              Status|Fulfilment|Sales Channel |ship-service-level|Style|          SKU|Category|Size|      ASIN|Courier Status|Qty|currency|Amount|    ship-city|    ship-state|ship-postal-code|ship-country|       promotion-ids|  B2B|fulfilled-by|Unnamed: 22|order_date|\n",
      "+-----+-------------------+--------+--------------------+----------+--------------+------------------+-----+-------------+--------+----+----------+--------------+---+--------+------+-------------+--------------+----------------+------------+--------------------+-----+------------+-----------+----------+\n",
      "|48936|404-0332978-0954715|03-31-22|Shipped - Deliver...|  Merchant|     Amazon.in|          Standard|BL111|      BL111-M|  Blouse|   M|B091YFLK7F|       Shipped|  1|     INR| 280.0|GREATER NOIDA| UTTAR PRADESH|        201306.0|          IN|Amazon PLCC Free-...|false|   Easy Ship|       NULL|2022-03-31|\n",
      "|48919|171-6941593-5471506|03-31-22|             Shipped|    Amazon|     Amazon.in|         Expedited|J0003|  J0003-SET-M|     Set|   M|B0894XH3LN|       Shipped|  1|     INR| 688.0|         AGRA| UTTAR PRADESH|        282002.0|          IN|IN Core Free Ship...|false|        NULL|       NULL|2022-03-31|\n",
      "|49012|171-6562992-0377967|03-31-22|             Shipped|    Amazon|     Amazon.in|         Expedited|J0003|  J0003-SET-M|     Set|   M|B0894XH3LN|       Shipped|  1|     INR| 688.0|       ONGOLE|ANDHRA PRADESH|        523002.0|          IN|IN Core Free Ship...|false|        NULL|       NULL|2022-03-31|\n",
      "|48922|171-8150095-2890752|03-31-22|             Shipped|    Amazon|     Amazon.in|         Expedited|J0003| J0003-SET-XL|     Set|  XL|B0894YFQ5R|       Shipped|  1|     INR| 688.0|     PARAVOOR|        KERALA|        691301.0|          IN|IN Core Free Ship...|false|        NULL|       NULL|2022-03-31|\n",
      "|48928|406-8137322-1977968|03-31-22|             Shipped|    Amazon|     Amazon.in|         Expedited|J0003| J0003-SET-XS|     Set|  XS|B0894WW15B|       Shipped|  1|     INR| 688.0|     ROURKELA|        ODISHA|        769005.0|          IN|IN Core Free Ship...|false|        NULL|       NULL|2022-03-31|\n",
      "|48983|408-8624074-9828342|03-31-22|Shipped - Deliver...|  Merchant|     Amazon.in|          Standard|J0003|J0003-SET-XXL|     Set| XXL|B0894XKVH3|       Shipped|  1|     INR| 688.0|     AGARTALA|       TRIPURA|        799006.0|          IN|Amazon PLCC Free-...|false|   Easy Ship|       NULL|2022-03-31|\n",
      "|48980|406-8656562-5221128|03-31-22|             Shipped|    Amazon|     Amazon.in|         Expedited|J0008|  J0008-SKD-S|     Set|   S|B0894XGJ83|       Shipped|  1|     INR|1147.0|GREATER NOIDA| UTTAR PRADESH|        201306.0|          IN|IN Core Free Ship...|false|        NULL|       NULL|2022-03-31|\n",
      "|48945|402-0466560-2961106|03-31-22|             Shipped|    Amazon|     Amazon.in|         Expedited|J0009|  J0009-SKD-L|     Set|   L|B0894WL9SH|       Shipped|  1|     INR| 990.0|        NOIDA| UTTAR PRADESH|        201305.0|          IN|IN Core Free Ship...|false|        NULL|       NULL|2022-03-31|\n",
      "|48951|407-8124955-7052365|03-31-22|             Shipped|    Amazon|     Amazon.in|         Expedited|J0096| J0096-KR-XXL|   kurta| XXL|B089G1TKY8|       Shipped|  1|     INR| 561.0|      BARASAT|   WEST BENGAL|        700127.0|          IN|IN Core Free Ship...|false|        NULL|       NULL|2022-03-31|\n",
      "|49034|408-9103661-4310737|03-31-22|             Shipped|    Amazon|     Amazon.in|         Expedited|J0119|  J0119-TP-XL|     Top|  XL|B08RYPWC3J|       Shipped|  1|     INR| 798.0|VISAKHAPATNAM|ANDHRA PRADESH|        530022.0|          IN|IN Core Free Ship...|false|        NULL|       NULL|2022-03-31|\n",
      "+-----+-------------------+--------+--------------------+----------+--------------+------------------+-----+-------------+--------+----+----------+--------------+---+--------+------+-------------+--------------+----------------+------------+--------------------+-----+------------+-----------+----------+\n",
      "only showing top 10 rows\n",
      "\n"
     ]
    }
   ],
   "source": [
    "df_sorted = df_sorted.filter(lower(col(\"Status\")).contains(\"shipped\"))\n",
    "df_sorted.show(10)"
   ]
  },
  {
   "cell_type": "markdown",
   "metadata": {},
   "source": [
    "### Bước 4: GroupBy 2 cột date và SKU, tính tổng cột Qty và lưu với tên total_quantity.\n"
   ]
  },
  {
   "cell_type": "markdown",
   "metadata": {},
   "source": [
    "- Tính ngày thứ 2 tiếp đến với mỗi ngày tương ứng và gán vào cột `report_date`"
   ]
  },
  {
   "cell_type": "code",
   "execution_count": 64,
   "metadata": {},
   "outputs": [
    {
     "name": "stdout",
     "output_type": "stream",
     "text": [
      "+-----+-------------------+--------+--------------------+----------+--------------+------------------+-----+-------------+--------+----+----------+--------------+---+--------+------+-------------+--------------+----------------+------------+--------------------+-----+------------+-----------+----------+-----------+\n",
      "|index|           Order ID|    Date|              Status|Fulfilment|Sales Channel |ship-service-level|Style|          SKU|Category|Size|      ASIN|Courier Status|Qty|currency|Amount|    ship-city|    ship-state|ship-postal-code|ship-country|       promotion-ids|  B2B|fulfilled-by|Unnamed: 22|order_date|report_date|\n",
      "+-----+-------------------+--------+--------------------+----------+--------------+------------------+-----+-------------+--------+----+----------+--------------+---+--------+------+-------------+--------------+----------------+------------+--------------------+-----+------------+-----------+----------+-----------+\n",
      "|48936|404-0332978-0954715|03-31-22|Shipped - Deliver...|  Merchant|     Amazon.in|          Standard|BL111|      BL111-M|  Blouse|   M|B091YFLK7F|       Shipped|  1|     INR| 280.0|GREATER NOIDA| UTTAR PRADESH|        201306.0|          IN|Amazon PLCC Free-...|false|   Easy Ship|       NULL|2022-03-31| 2022-04-04|\n",
      "|48919|171-6941593-5471506|03-31-22|             Shipped|    Amazon|     Amazon.in|         Expedited|J0003|  J0003-SET-M|     Set|   M|B0894XH3LN|       Shipped|  1|     INR| 688.0|         AGRA| UTTAR PRADESH|        282002.0|          IN|IN Core Free Ship...|false|        NULL|       NULL|2022-03-31| 2022-04-04|\n",
      "|49012|171-6562992-0377967|03-31-22|             Shipped|    Amazon|     Amazon.in|         Expedited|J0003|  J0003-SET-M|     Set|   M|B0894XH3LN|       Shipped|  1|     INR| 688.0|       ONGOLE|ANDHRA PRADESH|        523002.0|          IN|IN Core Free Ship...|false|        NULL|       NULL|2022-03-31| 2022-04-04|\n",
      "|48922|171-8150095-2890752|03-31-22|             Shipped|    Amazon|     Amazon.in|         Expedited|J0003| J0003-SET-XL|     Set|  XL|B0894YFQ5R|       Shipped|  1|     INR| 688.0|     PARAVOOR|        KERALA|        691301.0|          IN|IN Core Free Ship...|false|        NULL|       NULL|2022-03-31| 2022-04-04|\n",
      "|48928|406-8137322-1977968|03-31-22|             Shipped|    Amazon|     Amazon.in|         Expedited|J0003| J0003-SET-XS|     Set|  XS|B0894WW15B|       Shipped|  1|     INR| 688.0|     ROURKELA|        ODISHA|        769005.0|          IN|IN Core Free Ship...|false|        NULL|       NULL|2022-03-31| 2022-04-04|\n",
      "|48983|408-8624074-9828342|03-31-22|Shipped - Deliver...|  Merchant|     Amazon.in|          Standard|J0003|J0003-SET-XXL|     Set| XXL|B0894XKVH3|       Shipped|  1|     INR| 688.0|     AGARTALA|       TRIPURA|        799006.0|          IN|Amazon PLCC Free-...|false|   Easy Ship|       NULL|2022-03-31| 2022-04-04|\n",
      "|48980|406-8656562-5221128|03-31-22|             Shipped|    Amazon|     Amazon.in|         Expedited|J0008|  J0008-SKD-S|     Set|   S|B0894XGJ83|       Shipped|  1|     INR|1147.0|GREATER NOIDA| UTTAR PRADESH|        201306.0|          IN|IN Core Free Ship...|false|        NULL|       NULL|2022-03-31| 2022-04-04|\n",
      "|48945|402-0466560-2961106|03-31-22|             Shipped|    Amazon|     Amazon.in|         Expedited|J0009|  J0009-SKD-L|     Set|   L|B0894WL9SH|       Shipped|  1|     INR| 990.0|        NOIDA| UTTAR PRADESH|        201305.0|          IN|IN Core Free Ship...|false|        NULL|       NULL|2022-03-31| 2022-04-04|\n",
      "|48951|407-8124955-7052365|03-31-22|             Shipped|    Amazon|     Amazon.in|         Expedited|J0096| J0096-KR-XXL|   kurta| XXL|B089G1TKY8|       Shipped|  1|     INR| 561.0|      BARASAT|   WEST BENGAL|        700127.0|          IN|IN Core Free Ship...|false|        NULL|       NULL|2022-03-31| 2022-04-04|\n",
      "|49034|408-9103661-4310737|03-31-22|             Shipped|    Amazon|     Amazon.in|         Expedited|J0119|  J0119-TP-XL|     Top|  XL|B08RYPWC3J|       Shipped|  1|     INR| 798.0|VISAKHAPATNAM|ANDHRA PRADESH|        530022.0|          IN|IN Core Free Ship...|false|        NULL|       NULL|2022-03-31| 2022-04-04|\n",
      "+-----+-------------------+--------+--------------------+----------+--------------+------------------+-----+-------------+--------+----+----------+--------------+---+--------+------+-------------+--------------+----------------+------------+--------------------+-----+------------+-----------+----------+-----------+\n",
      "only showing top 10 rows\n",
      "\n"
     ]
    },
    {
     "name": "stderr",
     "output_type": "stream",
     "text": [
      "                                                                                \r"
     ]
    }
   ],
   "source": [
    "result_sorted = df_sorted.withColumn(\"report_date\",next_day(col(\"order_date\"),\"Mon\"))\n",
    "result_sorted.show(10)\n"
   ]
  },
  {
   "cell_type": "markdown",
   "metadata": {},
   "source": [
    "- Gom nhóm 2 thuộc tính `report_date` và `SKU`"
   ]
  },
  {
   "cell_type": "code",
   "execution_count": 65,
   "metadata": {},
   "outputs": [
    {
     "name": "stdout",
     "output_type": "stream",
     "text": [
      "root\n",
      " |-- report_date: date (nullable = true)\n",
      " |-- SKU: string (nullable = true)\n",
      " |-- total_quantity: long (nullable = true)\n",
      "\n"
     ]
    }
   ],
   "source": [
    "result_sorted = result_sorted.groupBy(['report_date', 'SKU']).agg(spark_sum(\"Qty\").alias(\"total_quantity\"))\n",
    "result_sorted.printSchema()"
   ]
  },
  {
   "cell_type": "markdown",
   "metadata": {},
   "source": [
    "### Bước 5: Format lại dữ liệu theo yêu cầu và ghi ra file.\n"
   ]
  },
  {
   "cell_type": "markdown",
   "metadata": {},
   "source": [
    "- Chỉnh định dạng ngày cho đúng yêu cầu"
   ]
  },
  {
   "cell_type": "code",
   "execution_count": 66,
   "metadata": {},
   "outputs": [
    {
     "name": "stdout",
     "output_type": "stream",
     "text": [
      "+-----------+-----------------+--------------+\n",
      "|report_date|              SKU|total_quantity|\n",
      "+-----------+-----------------+--------------+\n",
      "| 2022-05-02|  NW032-ST-CP-XXL|             1|\n",
      "| 2022-05-02|       J0334-TP-L|             5|\n",
      "| 2022-05-02|       J0338-DR-L|             7|\n",
      "| 2022-05-02|       J0157-DR-S|             5|\n",
      "| 2022-05-02|   NW030-TP-PJ-XL|             5|\n",
      "| 2022-05-02|   SET184-KR-PP-M|             4|\n",
      "| 2022-05-02|      J0337-TP-XL|             2|\n",
      "| 2022-05-02|SET402-KR-NP-XXXL|             3|\n",
      "| 2022-05-02|  JNE3804-KR-XXXL|             2|\n",
      "| 2022-05-02| SET198-KR-NP-A-M|             1|\n",
      "| 2022-05-02|      J0377-SKD-L|             2|\n",
      "| 2022-04-25|     JNE3291-KR-M|            26|\n",
      "| 2022-04-25|      J0344-TP-XL|             6|\n",
      "| 2022-04-25|     JNE3675-TU-M|             2|\n",
      "| 2022-04-25|  JNE3543-KR-XXXL|             2|\n",
      "| 2022-04-25| SET304-KR-DPT-XL|             3|\n",
      "| 2022-04-25|   SET038-KR-PP-M|             2|\n",
      "| 2022-04-25|   SET320-KR-NP-M|             1|\n",
      "| 2022-04-25|   NW005-ST-PJ-XL|             2|\n",
      "| 2022-04-25|      J0240-SKD-L|             1|\n",
      "+-----------+-----------------+--------------+\n",
      "only showing top 20 rows\n",
      "\n"
     ]
    }
   ],
   "source": [
    "result_sorted = result_sorted.withColumn(\"report_date\", to_date(col('report_date'), \"dd-MM-yyyy\"))\n",
    "result_sorted.show()"
   ]
  },
  {
   "cell_type": "markdown",
   "metadata": {},
   "source": [
    "- Lại theo ngày và SKU như yêu cầu của đề"
   ]
  },
  {
   "cell_type": "code",
   "execution_count": 71,
   "metadata": {},
   "outputs": [],
   "source": [
    "result_sorted = result_sorted.orderBy('report_date', 'SKU')\n",
    "result_sorted = result_sorted.withColumn(\"report_date\", date_format(\"report_date\", \"dd-MM-yyyy\"))\n"
   ]
  },
  {
   "cell_type": "markdown",
   "metadata": {},
   "source": [
    "- Sửa cột `SKU` thành `sku` "
   ]
  },
  {
   "cell_type": "code",
   "execution_count": 72,
   "metadata": {},
   "outputs": [
    {
     "name": "stdout",
     "output_type": "stream",
     "text": [
      "+-----------+---------------+--------------+\n",
      "|report_date|            sku|total_quantity|\n",
      "+-----------+---------------+--------------+\n",
      "| 04-04-2022| AN209-BIEGE-XL|             1|\n",
      "| 04-04-2022|BL003-50BLACK-B|             1|\n",
      "| 04-04-2022|  BL009-61BLACK|             3|\n",
      "| 04-04-2022|   BL015-63PINK|             1|\n",
      "| 04-04-2022| BL023-74PINK-B|             1|\n",
      "| 04-04-2022|  BL035-161GOLD|             4|\n",
      "| 04-04-2022|BL057-65BLACK-A|             3|\n",
      "| 04-04-2022|        BL099-L|             1|\n",
      "| 04-04-2022|        BL102-L|             1|\n",
      "| 04-04-2022|       BL103-XS|             1|\n",
      "+-----------+---------------+--------------+\n",
      "only showing top 10 rows\n",
      "\n"
     ]
    }
   ],
   "source": [
    "result_sorted = result_sorted.withColumnRenamed(\"SKU\", 'sku')\n",
    "result_sorted.show(10)"
   ]
  },
  {
   "cell_type": "markdown",
   "metadata": {},
   "source": [
    "- Ghi kết quả ra file"
   ]
  },
  {
   "cell_type": "code",
   "execution_count": 73,
   "metadata": {},
   "outputs": [],
   "source": [
    "result_sorted.coalesce(1).write.csv('file:///home/cuong/CQ05_Lab02/src/Task_2.2/output', header=True, mode='overwrite')"
   ]
  }
 ],
 "metadata": {
  "kernelspec": {
   "display_name": "base",
   "language": "python",
   "name": "python3"
  },
  "language_info": {
   "codemirror_mode": {
    "name": "ipython",
    "version": 3
   },
   "file_extension": ".py",
   "mimetype": "text/x-python",
   "name": "python",
   "nbconvert_exporter": "python",
   "pygments_lexer": "ipython3",
   "version": "3.12.7"
  }
 },
 "nbformat": 4,
 "nbformat_minor": 2
}
