{
 "cells": [
  {
   "cell_type": "markdown",
   "id": "5ac363cb",
   "metadata": {},
   "source": [
    "# Task 2.2: Calculate the number of products sold in the last 7 days of each SKU, report every Monday "
   ]
  },
  {
   "cell_type": "markdown",
   "id": "a742e55f",
   "metadata": {},
   "source": [
    "| Exercise 2.2 | \n",
    "|-------|\n",
    "| All output rows are correct | \n",
    "| Results are sorted in the right order|\n"
   ]
  }
 ],
 "metadata": {
  "language_info": {
   "name": "python"
  }
 },
 "nbformat": 4,
 "nbformat_minor": 5
}
