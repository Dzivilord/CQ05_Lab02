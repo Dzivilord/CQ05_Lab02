{
 "cells": [
  {
   "cell_type": "markdown",
   "id": "a965e1d2",
   "metadata": {},
   "source": [
    "# Task 2.3: Find pairs of overlapping shapes"
   ]
  },
  {
   "cell_type": "markdown",
   "id": "b8b3c6ec",
   "metadata": {},
   "source": [
    "| Exercise 2.3 | \n",
    "|-------|\n",
    "| The overlap detection function works | \n",
    "| All output rows are correct | \n",
    "| Results are sorted in the right order|\n"
   ]
  }
 ],
 "metadata": {
  "language_info": {
   "name": "python"
  }
 },
 "nbformat": 4,
 "nbformat_minor": 5
}
