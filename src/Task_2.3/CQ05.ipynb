{
 "cells": [
  {
   "cell_type": "markdown",
   "id": "15d845cf",
   "metadata": {},
   "source": [
    "# Task 2.3"
   ]
  },
  {
   "cell_type": "markdown",
   "id": "dcfc6551",
   "metadata": {},
   "source": [
    "## Thêm các thư viện cần thiết"
   ]
  },
  {
   "cell_type": "code",
   "execution_count": 1,
   "id": "05a68ed1",
   "metadata": {},
   "outputs": [],
   "source": [
    "import findspark\n",
    "findspark.init()"
   ]
  },
  {
   "cell_type": "code",
   "execution_count": 2,
   "id": "fb851a3b",
   "metadata": {},
   "outputs": [],
   "source": [
    "# 1. Import các thư viện cần thiết\n",
    "import os\n",
    "import sys\n",
    "from pyspark.sql import SparkSession\n",
    "from pyspark.sql.functions import udf\n",
    "from pyspark.sql import functions as F\n",
    "from pyspark.sql.types import BooleanType\n",
    "\n",
    "# 2. Thiết lập đúng Python cho worker\n",
    "os.environ[\"PYSPARK_PYTHON\"] = sys.executable\n",
    "os.environ[\"PYSPARK_DRIVER_PYTHON\"] = sys.executable\n"
   ]
  },
  {
   "cell_type": "markdown",
   "id": "e0328796",
   "metadata": {},
   "source": [
    "## Tạo session"
   ]
  },
  {
   "cell_type": "code",
   "execution_count": 3,
   "id": "493d1978",
   "metadata": {},
   "outputs": [],
   "source": [
    "spark=SparkSession.builder.master(\"local\")\\\n",
    "    .appName(\"task2.3\")\\\n",
    "    .config(\"spark.some.config.option\", \"some-value\")\\\n",
    "    .getOrCreate()"
   ]
  },
  {
   "cell_type": "markdown",
   "id": "caa8528f",
   "metadata": {},
   "source": [
    "## Đọc dữ liệu file shapes.parquet"
   ]
  },
  {
   "cell_type": "code",
   "execution_count": 4,
   "id": "020a8bac",
   "metadata": {},
   "outputs": [
    {
     "name": "stdout",
     "output_type": "stream",
     "text": [
      "+--------+--------------------------------------------+\n",
      "|shape_id|vertices                                    |\n",
      "+--------+--------------------------------------------+\n",
      "|Shape_0 |[[35, 28], [43, 28], [43, 32], [35, 32]]    |\n",
      "|Shape_1 |[[44, 16], [53, 16], [53, 20], [44, 20]]    |\n",
      "|Shape_2 |[[67, 84], [76, 84], [76, 92], [67, 92]]    |\n",
      "|Shape_3 |[[29, 37], [37, 37], [37, 45], [29, 45]]    |\n",
      "|Shape_4 |[[51, 79], [54, 79], [54, 88], [51, 88]]    |\n",
      "|Shape_5 |[[55, 33], [62, 33], [62, 39], [55, 39]]    |\n",
      "|Shape_6 |[[17, 88], [21, 88], [21, 97], [17, 97]]    |\n",
      "|Shape_7 |[[1, 2], [10, 2], [10, 7], [1, 7]]          |\n",
      "|Shape_8 |[[65, 14], [69, 14], [69, 20], [65, 20]]    |\n",
      "|Shape_9 |[[12, 48], [19, 48], [19, 51], [12, 51]]    |\n",
      "|Shape_10|[[97, 20], [100, 20], [100, 26], [97, 26]]  |\n",
      "|Shape_11|[[7, 38], [15, 38], [15, 45], [7, 45]]      |\n",
      "|Shape_12|[[69, 65], [78, 65], [78, 68], [69, 68]]    |\n",
      "|Shape_13|[[35, 8], [42, 8], [42, 18], [35, 18]]      |\n",
      "|Shape_14|[[96, 35], [100, 35], [100, 38], [96, 38]]  |\n",
      "|Shape_15|[[74, 62], [81, 62], [81, 69], [74, 69]]    |\n",
      "|Shape_16|[[75, 97], [80, 97], [80, 102], [75, 102]]  |\n",
      "|Shape_17|[[12, 4], [19, 4], [19, 12], [12, 12]]      |\n",
      "|Shape_18|[[54, 17], [57, 17], [57, 20], [54, 20]]    |\n",
      "|Shape_19|[[100, 66], [106, 66], [106, 70], [100, 70]]|\n",
      "+--------+--------------------------------------------+\n",
      "only showing top 20 rows\n",
      "\n"
     ]
    }
   ],
   "source": [
    "raw_df=spark.read.parquet('shapes.parquet')\n",
    "raw_df.show(truncate=False)"
   ]
  },
  {
   "cell_type": "markdown",
   "id": "3a8a840f",
   "metadata": {},
   "source": [
    "## In ra schema của DataFrame"
   ]
  },
  {
   "cell_type": "code",
   "execution_count": 5,
   "id": "9582e789",
   "metadata": {},
   "outputs": [
    {
     "name": "stdout",
     "output_type": "stream",
     "text": [
      "root\n",
      " |-- shape_id: string (nullable = true)\n",
      " |-- vertices: array (nullable = true)\n",
      " |    |-- element: array (containsNull = true)\n",
      " |    |    |-- element: long (containsNull = true)\n",
      "\n"
     ]
    }
   ],
   "source": [
    "raw_df.printSchema()"
   ]
  },
  {
   "cell_type": "markdown",
   "id": "d7acbfce",
   "metadata": {},
   "source": [
    "## Chuyển shape_id thành dạng số."
   ]
  },
  {
   "cell_type": "code",
   "execution_count": 6,
   "id": "2da86da7",
   "metadata": {},
   "outputs": [
    {
     "name": "stdout",
     "output_type": "stream",
     "text": [
      "+--------+--------------------------------------------+\n",
      "|shape_id|vertices                                    |\n",
      "+--------+--------------------------------------------+\n",
      "|0       |[[35, 28], [43, 28], [43, 32], [35, 32]]    |\n",
      "|1       |[[44, 16], [53, 16], [53, 20], [44, 20]]    |\n",
      "|2       |[[67, 84], [76, 84], [76, 92], [67, 92]]    |\n",
      "|3       |[[29, 37], [37, 37], [37, 45], [29, 45]]    |\n",
      "|4       |[[51, 79], [54, 79], [54, 88], [51, 88]]    |\n",
      "|5       |[[55, 33], [62, 33], [62, 39], [55, 39]]    |\n",
      "|6       |[[17, 88], [21, 88], [21, 97], [17, 97]]    |\n",
      "|7       |[[1, 2], [10, 2], [10, 7], [1, 7]]          |\n",
      "|8       |[[65, 14], [69, 14], [69, 20], [65, 20]]    |\n",
      "|9       |[[12, 48], [19, 48], [19, 51], [12, 51]]    |\n",
      "|10      |[[97, 20], [100, 20], [100, 26], [97, 26]]  |\n",
      "|11      |[[7, 38], [15, 38], [15, 45], [7, 45]]      |\n",
      "|12      |[[69, 65], [78, 65], [78, 68], [69, 68]]    |\n",
      "|13      |[[35, 8], [42, 8], [42, 18], [35, 18]]      |\n",
      "|14      |[[96, 35], [100, 35], [100, 38], [96, 38]]  |\n",
      "|15      |[[74, 62], [81, 62], [81, 69], [74, 69]]    |\n",
      "|16      |[[75, 97], [80, 97], [80, 102], [75, 102]]  |\n",
      "|17      |[[12, 4], [19, 4], [19, 12], [12, 12]]      |\n",
      "|18      |[[54, 17], [57, 17], [57, 20], [54, 20]]    |\n",
      "|19      |[[100, 66], [106, 66], [106, 70], [100, 70]]|\n",
      "+--------+--------------------------------------------+\n",
      "only showing top 20 rows\n",
      "\n"
     ]
    }
   ],
   "source": [
    "shape_df=raw_df.withColumn(\"shape_id\", F.regexp_extract(\"shape_id\", r\"(\\d+)\", 1).cast(\"int\"))\n",
    "shape_df.show(truncate=False)"
   ]
  },
  {
   "cell_type": "code",
   "execution_count": 7,
   "id": "e30687a2",
   "metadata": {},
   "outputs": [
    {
     "name": "stdout",
     "output_type": "stream",
     "text": [
      "root\n",
      " |-- shape_id: integer (nullable = true)\n",
      " |-- vertices: array (nullable = true)\n",
      " |    |-- element: array (containsNull = true)\n",
      " |    |    |-- element: long (containsNull = true)\n",
      "\n"
     ]
    }
   ],
   "source": [
    "shape_df.printSchema()"
   ]
  },
  {
   "cell_type": "markdown",
   "id": "96873404",
   "metadata": {},
   "source": [
    "## Hàm kiểm tra có phải là hình chữ nhật hay không"
   ]
  },
  {
   "cell_type": "code",
   "execution_count": 8,
   "id": "2e5043dd",
   "metadata": {},
   "outputs": [],
   "source": [
    "def is_rectangle(vertices):\n",
    "    A= vertices[0]\n",
    "    B= vertices[1]\n",
    "    C= vertices[2]\n",
    "    D= vertices[3]\n",
    "    \n",
    "    AB = [B[0] - A[0], B[1] - A[1]]\n",
    "    BC = [C[0] - B[0], C[1] - B[1]]\n",
    "    CD = [D[0] - C[0], D[1] - C[1]]\n",
    "    DA = [A[0] - D[0], A[1] - D[1]]\n",
    "\n",
    "    dot_AB_BC= AB[0] * BC[0] + AB[1] * BC[1]\n",
    "    dot_BC_CD= BC[0] * CD[0] + BC[1] * CD[1]\n",
    "    dot_CD_DA= CD[0] * DA[0] + CD[1] * DA[1]\n",
    "    dot_DA_AB= DA[0] * AB[0] + DA[1] * AB[1]\n",
    "\n",
    "    if abs(dot_AB_BC) < 1e-6 and abs(dot_BC_CD) < 1e-6 and abs(dot_CD_DA) < 1e-6 and abs(dot_DA_AB) < 1e-6:\n",
    "        return True\n",
    "    else:\n",
    "        return False\n",
    "\n",
    "\n",
    "is_rectangle_udf = udf(is_rectangle, BooleanType())"
   ]
  },
  {
   "cell_type": "markdown",
   "id": "04e26150",
   "metadata": {},
   "source": [
    "## Kiểm tra cho các hình"
   ]
  },
  {
   "cell_type": "code",
   "execution_count": 9,
   "id": "3c90285a",
   "metadata": {},
   "outputs": [
    {
     "name": "stdout",
     "output_type": "stream",
     "text": [
      "+------------+\n",
      "|is_rectangle|\n",
      "+------------+\n",
      "|true        |\n",
      "+------------+\n",
      "\n"
     ]
    }
   ],
   "source": [
    "shape_df.withColumn(\"is_rectangle\", is_rectangle_udf(\"vertices\")).select(\"is_rectangle\").distinct().show(truncate=False)"
   ]
  },
  {
   "cell_type": "markdown",
   "id": "a2f7a7f0",
   "metadata": {},
   "source": [
    "$\\rightarrow$ Các hình đều là hình chữ nhật nếu ta xem 4 điểm này tạo thành tứ giác bao lồi"
   ]
  },
  {
   "cell_type": "markdown",
   "id": "32e41b8c",
   "metadata": {},
   "source": [
    "## Rã các điểm thành điểm x_min, x_max, y_min và y_max"
   ]
  },
  {
   "cell_type": "code",
   "execution_count": 10,
   "id": "c56b7965",
   "metadata": {},
   "outputs": [
    {
     "name": "stdout",
     "output_type": "stream",
     "text": [
      "+--------+-----+-----+-----+-----+\n",
      "|shape_id|x_min|x_max|y_min|y_max|\n",
      "+--------+-----+-----+-----+-----+\n",
      "|0       |35   |43   |28   |32   |\n",
      "|1       |44   |53   |16   |20   |\n",
      "|2       |67   |76   |84   |92   |\n",
      "|3       |29   |37   |37   |45   |\n",
      "|4       |51   |54   |79   |88   |\n",
      "|5       |55   |62   |33   |39   |\n",
      "|6       |17   |21   |88   |97   |\n",
      "|7       |1    |10   |2    |7    |\n",
      "|8       |65   |69   |14   |20   |\n",
      "|9       |12   |19   |48   |51   |\n",
      "|10      |97   |100  |20   |26   |\n",
      "|11      |7    |15   |38   |45   |\n",
      "|12      |69   |78   |65   |68   |\n",
      "|13      |35   |42   |8    |18   |\n",
      "|14      |96   |100  |35   |38   |\n",
      "|15      |74   |81   |62   |69   |\n",
      "|16      |75   |80   |97   |102  |\n",
      "|17      |12   |19   |4    |12   |\n",
      "|18      |54   |57   |17   |20   |\n",
      "|19      |100  |106  |66   |70   |\n",
      "+--------+-----+-----+-----+-----+\n",
      "only showing top 20 rows\n",
      "\n"
     ]
    }
   ],
   "source": [
    "shape_df=shape_df.withColumn(\"x_min\",F.least(F.col(\"vertices\")[0][0],F.col(\"vertices\")[1][0],F.col(\"vertices\")[2][0],F.col(\"vertices\")[3][0]))\\\n",
    "    .withColumn(\"x_max\",F.greatest(F.col(\"vertices\")[0][0],F.col(\"vertices\")[1][0],F.col(\"vertices\")[2][0],F.col(\"vertices\")[3][0]))\\\n",
    "    .withColumn(\"y_min\",F.least(F.col(\"vertices\")[0][1],F.col(\"vertices\")[1][1],F.col(\"vertices\")[2][1],F.col(\"vertices\")[3][1]))\\\n",
    "    .withColumn(\"y_max\",F.greatest(F.col(\"vertices\")[0][1],F.col(\"vertices\")[1][1],F.col(\"vertices\")[2][1],F.col(\"vertices\")[3][1]))\\\n",
    "    .select(\"shape_id\",\"x_min\",\"x_max\",\"y_min\",\"y_max\")\n",
    "\n",
    "shape_df.show(truncate=False)\n",
    "    "
   ]
  },
  {
   "cell_type": "markdown",
   "id": "8d793eb7",
   "metadata": {},
   "source": [
    "## Ghép shape_df với shape_df sao cho shape_2 > shape_1"
   ]
  },
  {
   "cell_type": "code",
   "execution_count": 11,
   "id": "21e5ac86",
   "metadata": {},
   "outputs": [
    {
     "name": "stdout",
     "output_type": "stream",
     "text": [
      "+-------+-------+-------+-------+-------+-------+-------+-------+-------+-------+\n",
      "|shape_1|x_min_1|x_max_1|y_min_1|y_max_1|shape_2|x_min_2|x_max_2|y_min_2|y_max_2|\n",
      "+-------+-------+-------+-------+-------+-------+-------+-------+-------+-------+\n",
      "|0      |35     |43     |28     |32     |1      |44     |53     |16     |20     |\n",
      "|0      |35     |43     |28     |32     |2      |67     |76     |84     |92     |\n",
      "|0      |35     |43     |28     |32     |3      |29     |37     |37     |45     |\n",
      "|0      |35     |43     |28     |32     |4      |51     |54     |79     |88     |\n",
      "|0      |35     |43     |28     |32     |5      |55     |62     |33     |39     |\n",
      "|0      |35     |43     |28     |32     |6      |17     |21     |88     |97     |\n",
      "|0      |35     |43     |28     |32     |7      |1      |10     |2      |7      |\n",
      "|0      |35     |43     |28     |32     |8      |65     |69     |14     |20     |\n",
      "|0      |35     |43     |28     |32     |9      |12     |19     |48     |51     |\n",
      "|0      |35     |43     |28     |32     |10     |97     |100    |20     |26     |\n",
      "|0      |35     |43     |28     |32     |11     |7      |15     |38     |45     |\n",
      "|0      |35     |43     |28     |32     |12     |69     |78     |65     |68     |\n",
      "|0      |35     |43     |28     |32     |13     |35     |42     |8      |18     |\n",
      "|0      |35     |43     |28     |32     |14     |96     |100    |35     |38     |\n",
      "|0      |35     |43     |28     |32     |15     |74     |81     |62     |69     |\n",
      "|0      |35     |43     |28     |32     |16     |75     |80     |97     |102    |\n",
      "|0      |35     |43     |28     |32     |17     |12     |19     |4      |12     |\n",
      "|0      |35     |43     |28     |32     |18     |54     |57     |17     |20     |\n",
      "|0      |35     |43     |28     |32     |19     |100    |106    |66     |70     |\n",
      "|0      |35     |43     |28     |32     |20     |8      |17     |46     |53     |\n",
      "+-------+-------+-------+-------+-------+-------+-------+-------+-------+-------+\n",
      "only showing top 20 rows\n",
      "\n"
     ]
    }
   ],
   "source": [
    "df1 = shape_df.alias(\"a\")\n",
    "df2 = shape_df.alias(\"b\")\n",
    "\n",
    "# Join để tạo các cặp shape_id khác nhau sao cho shape_id_a < shape_id_b\n",
    "pairs_df = df1.join(df2, F.col(\"a.shape_id\") < F.col(\"b.shape_id\"),'inner').selectExpr(\"a.shape_id as shape_1\", \"a.x_min as x_min_1\", \"a.x_max as x_max_1\", \"a.y_min as y_min_1\", \"a.y_max as y_max_1\",\n",
    "                    \"b.shape_id as shape_2\", \"b.x_min as x_min_2\", \"b.x_max as x_max_2\", \"b.y_min as y_min_2\", \"b.y_max as y_max_2\")\n",
    "pairs_df.show(truncate=False)\n",
    "\n"
   ]
  },
  {
   "cell_type": "markdown",
   "id": "a56c9b7f",
   "metadata": {},
   "source": [
    "## Hàm kiểm tra overlap"
   ]
  },
  {
   "cell_type": "code",
   "execution_count": 12,
   "id": "4d89d95e",
   "metadata": {},
   "outputs": [],
   "source": [
    "def is_overlap(x_min_1, x_max_1, y_min_1, y_max_1, x_min_2, x_max_2, y_min_2, y_max_2):\n",
    "    if x_min_1 >= x_max_2 or x_min_2 >= x_max_1:\n",
    "        return False\n",
    "    if y_min_1 >= y_max_2 or y_min_2 >= y_max_1:\n",
    "        return False\n",
    "    return True\n",
    "\n",
    "is_overlap_udf = udf(is_overlap, BooleanType())"
   ]
  },
  {
   "cell_type": "markdown",
   "id": "7e55b7a4",
   "metadata": {},
   "source": [
    "## Kiểm tra overlap"
   ]
  },
  {
   "cell_type": "code",
   "execution_count": 13,
   "id": "c8852f1a",
   "metadata": {},
   "outputs": [
    {
     "name": "stdout",
     "output_type": "stream",
     "text": [
      "+-------+-------+-------+-------+-------+-------+-------+-------+-------+-------+----------+\n",
      "|shape_1|x_min_1|x_max_1|y_min_1|y_max_1|shape_2|x_min_2|x_max_2|y_min_2|y_max_2|is_overlap|\n",
      "+-------+-------+-------+-------+-------+-------+-------+-------+-------+-------+----------+\n",
      "|0      |35     |43     |28     |32     |1      |44     |53     |16     |20     |false     |\n",
      "|0      |35     |43     |28     |32     |2      |67     |76     |84     |92     |false     |\n",
      "|0      |35     |43     |28     |32     |3      |29     |37     |37     |45     |false     |\n",
      "|0      |35     |43     |28     |32     |4      |51     |54     |79     |88     |false     |\n",
      "|0      |35     |43     |28     |32     |5      |55     |62     |33     |39     |false     |\n",
      "|0      |35     |43     |28     |32     |6      |17     |21     |88     |97     |false     |\n",
      "|0      |35     |43     |28     |32     |7      |1      |10     |2      |7      |false     |\n",
      "|0      |35     |43     |28     |32     |8      |65     |69     |14     |20     |false     |\n",
      "|0      |35     |43     |28     |32     |9      |12     |19     |48     |51     |false     |\n",
      "|0      |35     |43     |28     |32     |10     |97     |100    |20     |26     |false     |\n",
      "|0      |35     |43     |28     |32     |11     |7      |15     |38     |45     |false     |\n",
      "|0      |35     |43     |28     |32     |12     |69     |78     |65     |68     |false     |\n",
      "|0      |35     |43     |28     |32     |13     |35     |42     |8      |18     |false     |\n",
      "|0      |35     |43     |28     |32     |14     |96     |100    |35     |38     |false     |\n",
      "|0      |35     |43     |28     |32     |15     |74     |81     |62     |69     |false     |\n",
      "|0      |35     |43     |28     |32     |16     |75     |80     |97     |102    |false     |\n",
      "|0      |35     |43     |28     |32     |17     |12     |19     |4      |12     |false     |\n",
      "|0      |35     |43     |28     |32     |18     |54     |57     |17     |20     |false     |\n",
      "|0      |35     |43     |28     |32     |19     |100    |106    |66     |70     |false     |\n",
      "|0      |35     |43     |28     |32     |20     |8      |17     |46     |53     |false     |\n",
      "+-------+-------+-------+-------+-------+-------+-------+-------+-------+-------+----------+\n",
      "only showing top 20 rows\n",
      "\n"
     ]
    }
   ],
   "source": [
    "check_overlap_df = pairs_df.withColumn(\n",
    "    \"is_overlap\",\n",
    "    is_overlap_udf(\"x_min_1\", \"x_max_1\", \"y_min_1\", \"y_max_1\",\n",
    "                  \"x_min_2\", \"x_max_2\", \"y_min_2\", \"y_max_2\")\n",
    ")\n",
    "check_overlap_df.show(truncate=False)"
   ]
  },
  {
   "cell_type": "markdown",
   "id": "681dd91a",
   "metadata": {},
   "source": [
    "## Lọc các trường hợp có giá trị bằng true"
   ]
  },
  {
   "cell_type": "code",
   "execution_count": 14,
   "id": "b7c8aa1c",
   "metadata": {},
   "outputs": [
    {
     "name": "stdout",
     "output_type": "stream",
     "text": [
      "+-------+-------+\n",
      "|shape_1|shape_2|\n",
      "+-------+-------+\n",
      "|0      |41     |\n",
      "|0      |143    |\n",
      "|0      |198    |\n",
      "|0      |430    |\n",
      "|0      |473    |\n",
      "|0      |490    |\n",
      "|0      |496    |\n",
      "|0      |605    |\n",
      "|0      |637    |\n",
      "|0      |729    |\n",
      "|0      |818    |\n",
      "|1      |118    |\n",
      "|1      |160    |\n",
      "|1      |186    |\n",
      "|1      |220    |\n",
      "|1      |247    |\n",
      "|1      |256    |\n",
      "|1      |377    |\n",
      "|1      |444    |\n",
      "|1      |809    |\n",
      "+-------+-------+\n",
      "only showing top 20 rows\n",
      "\n"
     ]
    }
   ],
   "source": [
    "overlap_df=check_overlap_df.filter(F.col(\"is_overlap\") == 'true').select(\"shape_1\",\"shape_2\").orderBy(F.asc(\"shape_1\"),F.asc(\"shape_2\"))\n",
    "overlap_df.show(truncate=False)"
   ]
  },
  {
   "cell_type": "markdown",
   "id": "7573080a",
   "metadata": {},
   "source": [
    "## Xuất file csv"
   ]
  },
  {
   "cell_type": "code",
   "execution_count": 15,
   "id": "7982103d",
   "metadata": {},
   "outputs": [],
   "source": [
    "overlap_df.coalesce(1).write.csv('output', header=True, mode='overwrite')"
   ]
  }
 ],
 "metadata": {
  "kernelspec": {
   "display_name": "min_ds-env2",
   "language": "python",
   "name": "python3"
  },
  "language_info": {
   "codemirror_mode": {
    "name": "ipython",
    "version": 3
   },
   "file_extension": ".py",
   "mimetype": "text/x-python",
   "name": "python",
   "nbconvert_exporter": "python",
   "pygments_lexer": "ipython3",
   "version": "3.10.15"
  }
 },
 "nbformat": 4,
 "nbformat_minor": 5
}
